{
 "cells": [
  {
   "cell_type": "markdown",
   "metadata": {
    "colab_type": "text",
    "id": "yggG02usGXIx"
   },
   "source": [
    "## Lab 2: Clustering ##\n",
    "\n",
    "The dataset for this lab has been created from some custom features from Lab 1. The columns are named as q1, q2....etc. A custom description of the features can be found at this link: (https://drive.google.com/file/d/0BycRP8EC1WVVUmo5d3kwTWlDYlk/view). \n",
    "\n",
    "If, at any place, you wish to include a comment or a discussion of your code/results, please add a Text cell below your answer/code. A text cell can be added by clicking on '+TEXT' in the upper left corner.\n"
   ]
  },
  {
   "cell_type": "markdown",
   "metadata": {
    "colab_type": "text",
    "id": "urwMx0LSG937"
   },
   "source": [
    "#Environment Setup\n",
    "Run this cell to setup your environment."
   ]
  },
  {
   "cell_type": "code",
   "execution_count": 57,
   "metadata": {
    "colab": {
     "base_uri": "https://localhost:8080/",
     "height": 306
    },
    "colab_type": "code",
    "id": "2_LDZ0VGGXIy",
    "outputId": "efbe5334-fd00-4ece-9d88-0ed8df1d5e9b"
   },
   "outputs": [
    {
     "name": "stdout",
     "output_type": "stream",
     "text": [
      "--2019-02-14 19:33:07--  http://people.ischool.berkeley.edu/~zp/course_datasets/yelp_reviewers.zip\n",
      "Resolving people.ischool.berkeley.edu (people.ischool.berkeley.edu)... 128.32.78.16\n",
      "Connecting to people.ischool.berkeley.edu (people.ischool.berkeley.edu)|128.32.78.16|:80... connected.\n",
      "HTTP request sent, awaiting response... 200 OK\n",
      "Length: 12350863 (12M) [application/zip]\n",
      "Saving to: ‘yelp_reviewers.zip.2’\n",
      "\n",
      "yelp_reviewers.zip. 100%[===================>]  11.78M  2.21MB/s    in 6.3s    \n",
      "\n",
      "2019-02-14 19:33:13 (1.86 MB/s) - ‘yelp_reviewers.zip.2’ saved [12350863/12350863]\n",
      "\n",
      "Archive:  yelp_reviewers.zip\n",
      "replace yelp_reviewers.csv? [y]es, [n]o, [A]ll, [N]one, [r]ename: y\n",
      "  inflating: yelp_reviewers.csv      \n",
      "Dataset Downloaded: yelp_reviewers.csv\n",
      "(171639, 43)\n",
      "....SETUP COMPLETE....\n"
     ]
    }
   ],
   "source": [
    "import pandas as pd\n",
    "from sklearn.cluster import KMeans\n",
    "from sklearn.metrics import silhouette_score\n",
    "import numpy as np\n",
    "from sklearn.preprocessing import normalize\n",
    "\n",
    "import matplotlib\n",
    "import matplotlib.pyplot as plt\n",
    "\n",
    "%matplotlib inline\n",
    "matplotlib.style.use('ggplot')\n",
    "\n",
    "\n",
    "\n",
    "#DOWNLOADING DATASET\n",
    "!wget http://people.ischool.berkeley.edu/~zp/course_datasets/yelp_reviewers.zip\n",
    "!unzip yelp_reviewers.zip\n",
    "print('Dataset Downloaded: yelp_reviewers.csv')\n",
    "df = pd.read_csv('yelp_reviewers.csv')\n",
    "print(df.shape)\n",
    "df.dropna().describe()\n",
    "\n",
    "print('....SETUP COMPLETE....')"
   ]
  },
  {
   "cell_type": "markdown",
   "metadata": {
    "colab_type": "text",
    "id": "RsWzAoTdGXI1"
   },
   "source": [
    "### Question 1 ###\n",
    "\n",
    "Choose an implementation of k-means. Which one have you used? (Scikit-learn, custom, other)\n",
    "\n"
   ]
  },
  {
   "cell_type": "markdown",
   "metadata": {
    "colab_type": "text",
    "id": "6K6fADVvRfY-"
   },
   "source": [
    "### ANSWER: Scikit-learn ### "
   ]
  },
  {
   "cell_type": "code",
   "execution_count": 22,
   "metadata": {
    "colab": {
     "base_uri": "https://localhost:8080/",
     "height": 233
    },
    "colab_type": "code",
    "id": "UbUN7HWkQ5OH",
    "outputId": "1c3702c4-a342-4756-d52f-a0958153ccbc"
   },
   "outputs": [
    {
     "data": {
      "text/html": [
       "<div>\n",
       "<style scoped>\n",
       "    .dataframe tbody tr th:only-of-type {\n",
       "        vertical-align: middle;\n",
       "    }\n",
       "\n",
       "    .dataframe tbody tr th {\n",
       "        vertical-align: top;\n",
       "    }\n",
       "\n",
       "    .dataframe thead th {\n",
       "        text-align: right;\n",
       "    }\n",
       "</style>\n",
       "<table border=\"1\" class=\"dataframe\">\n",
       "  <thead>\n",
       "    <tr style=\"text-align: right;\">\n",
       "      <th></th>\n",
       "      <th>user_id</th>\n",
       "      <th>q3</th>\n",
       "      <th>q4</th>\n",
       "      <th>q5</th>\n",
       "      <th>q6</th>\n",
       "      <th>q7</th>\n",
       "      <th>q8</th>\n",
       "      <th>q9</th>\n",
       "      <th>q10</th>\n",
       "      <th>q11</th>\n",
       "      <th>...</th>\n",
       "      <th>q16t</th>\n",
       "      <th>q16u</th>\n",
       "      <th>q16v</th>\n",
       "      <th>q16w</th>\n",
       "      <th>q16x</th>\n",
       "      <th>q16y</th>\n",
       "      <th>q16z</th>\n",
       "      <th>q16aa</th>\n",
       "      <th>q16ab</th>\n",
       "      <th>q16ac</th>\n",
       "    </tr>\n",
       "  </thead>\n",
       "  <tbody>\n",
       "    <tr>\n",
       "      <th>0</th>\n",
       "      <td>--1Y03CEKR3WDbBjYnsW7A</td>\n",
       "      <td>1</td>\n",
       "      <td>0</td>\n",
       "      <td>0</td>\n",
       "      <td>0</td>\n",
       "      <td>0.00</td>\n",
       "      <td>NaN</td>\n",
       "      <td>NaN</td>\n",
       "      <td>NaN</td>\n",
       "      <td>NaN</td>\n",
       "      <td>...</td>\n",
       "      <td>no</td>\n",
       "      <td>4.00</td>\n",
       "      <td>14</td>\n",
       "      <td>5</td>\n",
       "      <td>0.000000</td>\n",
       "      <td>213.000000</td>\n",
       "      <td>0</td>\n",
       "      <td>0</td>\n",
       "      <td>0.000000</td>\n",
       "      <td>5.000000</td>\n",
       "    </tr>\n",
       "    <tr>\n",
       "      <th>1</th>\n",
       "      <td>--2QZsyXGz1OhiD4-0FQLQ</td>\n",
       "      <td>3</td>\n",
       "      <td>0</td>\n",
       "      <td>0</td>\n",
       "      <td>1</td>\n",
       "      <td>1.10</td>\n",
       "      <td>NaN</td>\n",
       "      <td>NaN</td>\n",
       "      <td>0.0</td>\n",
       "      <td>0.0</td>\n",
       "      <td>...</td>\n",
       "      <td>no</td>\n",
       "      <td>1.00</td>\n",
       "      <td>19</td>\n",
       "      <td>14</td>\n",
       "      <td>0.000000</td>\n",
       "      <td>21.833333</td>\n",
       "      <td>1</td>\n",
       "      <td>0</td>\n",
       "      <td>0.333333</td>\n",
       "      <td>4.666667</td>\n",
       "    </tr>\n",
       "    <tr>\n",
       "      <th>2</th>\n",
       "      <td>--82_AVgRBsLw6Dhy8sEnA</td>\n",
       "      <td>1</td>\n",
       "      <td>0</td>\n",
       "      <td>0</td>\n",
       "      <td>0</td>\n",
       "      <td>0.00</td>\n",
       "      <td>NaN</td>\n",
       "      <td>NaN</td>\n",
       "      <td>NaN</td>\n",
       "      <td>NaN</td>\n",
       "      <td>...</td>\n",
       "      <td>no</td>\n",
       "      <td>3.00</td>\n",
       "      <td>31</td>\n",
       "      <td>4</td>\n",
       "      <td>0.002275</td>\n",
       "      <td>165.000000</td>\n",
       "      <td>0</td>\n",
       "      <td>0</td>\n",
       "      <td>0.000000</td>\n",
       "      <td>4.000000</td>\n",
       "    </tr>\n",
       "    <tr>\n",
       "      <th>3</th>\n",
       "      <td>--8A9o_NeGyt_3kzlXtSdg</td>\n",
       "      <td>3</td>\n",
       "      <td>0</td>\n",
       "      <td>0</td>\n",
       "      <td>1</td>\n",
       "      <td>1.10</td>\n",
       "      <td>NaN</td>\n",
       "      <td>NaN</td>\n",
       "      <td>0.0</td>\n",
       "      <td>0.0</td>\n",
       "      <td>...</td>\n",
       "      <td>no</td>\n",
       "      <td>0.00</td>\n",
       "      <td>8</td>\n",
       "      <td>11</td>\n",
       "      <td>0.002242</td>\n",
       "      <td>61.500000</td>\n",
       "      <td>0</td>\n",
       "      <td>0</td>\n",
       "      <td>0.333333</td>\n",
       "      <td>3.666667</td>\n",
       "    </tr>\n",
       "    <tr>\n",
       "      <th>4</th>\n",
       "      <td>--8WbseBk1NjfPiZWjQ-XQ</td>\n",
       "      <td>4</td>\n",
       "      <td>0</td>\n",
       "      <td>0</td>\n",
       "      <td>0</td>\n",
       "      <td>1.39</td>\n",
       "      <td>NaN</td>\n",
       "      <td>NaN</td>\n",
       "      <td>NaN</td>\n",
       "      <td>NaN</td>\n",
       "      <td>...</td>\n",
       "      <td>no</td>\n",
       "      <td>0.25</td>\n",
       "      <td>28</td>\n",
       "      <td>11</td>\n",
       "      <td>0.000444</td>\n",
       "      <td>287.500000</td>\n",
       "      <td>0</td>\n",
       "      <td>0</td>\n",
       "      <td>0.000000</td>\n",
       "      <td>2.750000</td>\n",
       "    </tr>\n",
       "  </tbody>\n",
       "</table>\n",
       "<p>5 rows × 43 columns</p>\n",
       "</div>"
      ],
      "text/plain": [
       "                  user_id  q3  q4  q5  q6    q7  q8  q9  q10  q11    ...     \\\n",
       "0  --1Y03CEKR3WDbBjYnsW7A   1   0   0   0  0.00 NaN NaN  NaN  NaN    ...      \n",
       "1  --2QZsyXGz1OhiD4-0FQLQ   3   0   0   1  1.10 NaN NaN  0.0  0.0    ...      \n",
       "2  --82_AVgRBsLw6Dhy8sEnA   1   0   0   0  0.00 NaN NaN  NaN  NaN    ...      \n",
       "3  --8A9o_NeGyt_3kzlXtSdg   3   0   0   1  1.10 NaN NaN  0.0  0.0    ...      \n",
       "4  --8WbseBk1NjfPiZWjQ-XQ   4   0   0   0  1.39 NaN NaN  NaN  NaN    ...      \n",
       "\n",
       "   q16t  q16u  q16v  q16w      q16x        q16y  q16z  q16aa     q16ab  \\\n",
       "0    no  4.00    14     5  0.000000  213.000000     0      0  0.000000   \n",
       "1    no  1.00    19    14  0.000000   21.833333     1      0  0.333333   \n",
       "2    no  3.00    31     4  0.002275  165.000000     0      0  0.000000   \n",
       "3    no  0.00     8    11  0.002242   61.500000     0      0  0.333333   \n",
       "4    no  0.25    28    11  0.000444  287.500000     0      0  0.000000   \n",
       "\n",
       "      q16ac  \n",
       "0  5.000000  \n",
       "1  4.666667  \n",
       "2  4.000000  \n",
       "3  3.666667  \n",
       "4  2.750000  \n",
       "\n",
       "[5 rows x 43 columns]"
      ]
     },
     "execution_count": 22,
     "metadata": {
      "tags": []
     },
     "output_type": "execute_result"
    }
   ],
   "source": [
    "df.head()"
   ]
  },
  {
   "cell_type": "code",
   "execution_count": 26,
   "metadata": {
    "colab": {
     "base_uri": "https://localhost:8080/",
     "height": 34
    },
    "colab_type": "code",
    "id": "Dw2f-8t0OeuC",
    "outputId": "68d671d2-77a1-46e5-a904-dd1f2307c9ac"
   },
   "outputs": [
    {
     "name": "stdout",
     "output_type": "stream",
     "text": [
      "(51491, 43)\n"
     ]
    }
   ],
   "source": [
    "df_s = df.sample(n = int(171639*0.3))\n",
    "print(df_s.shape)"
   ]
  },
  {
   "cell_type": "markdown",
   "metadata": {
    "colab_type": "text",
    "id": "Fs-_D7JKGXI2"
   },
   "source": [
    "\n",
    "\n",
    "---\n",
    "\n",
    "\n",
    "### Question 2 ###\n",
    "What is the best choice of k according to the silhouette metric for clustering q4-q6 (# of cool, funny, useful votes). Only consider 2 <= k <= 8.  \n",
    "\n",
    "NOTE: For features with high variance, empty clusters can occur. There are several ways of dealing with empty clusters. A common approach is to drop empty clusters, the prefered approach for this Lab is to treat the empty cluster as a “singleton” leaving it empty with a single point placeholder.\n"
   ]
  },
  {
   "cell_type": "code",
   "execution_count": 27,
   "metadata": {
    "colab": {
     "base_uri": "https://localhost:8080/",
     "height": 136
    },
    "colab_type": "code",
    "id": "BStZL9k4GXI2",
    "outputId": "7207b96c-0749-43c4-a5aa-cb6c6f298122"
   },
   "outputs": [
    {
     "name": "stdout",
     "output_type": "stream",
     "text": [
      "2 0.9863428851460094\n",
      "3 0.9746234578068156\n",
      "4 0.9108376688107326\n",
      "5 0.891430312517317\n",
      "6 0.7909151937480288\n",
      "7 0.7450647471631096\n",
      "8 0.6938218320393711\n"
     ]
    }
   ],
   "source": [
    "# YOUR CODE HERE\n",
    "\n",
    "Y = df_s[['q4','q5','q6']]\n",
    "\n",
    "for k in range(2,9):\n",
    "    kmeans = KMeans(n_clusters=k, random_state=0).fit(Y)\n",
    "    s_score = silhouette_score(Y, kmeans.labels_)\n",
    "    print(k, s_score)"
   ]
  },
  {
   "cell_type": "markdown",
   "metadata": {
    "colab_type": "text",
    "id": "4luyaTe8YBXJ"
   },
   "source": [
    "### ANSWER: k=2 ###"
   ]
  },
  {
   "cell_type": "markdown",
   "metadata": {
    "colab_type": "text",
    "id": "OFweRaV4GXI4"
   },
   "source": [
    "***\n",
    "\n",
    "### Question 3 ###\n",
    "Answer question 2 but using the log of the features (q7-q10)\n",
    "\n"
   ]
  },
  {
   "cell_type": "code",
   "execution_count": 28,
   "metadata": {
    "colab": {
     "base_uri": "https://localhost:8080/",
     "height": 136
    },
    "colab_type": "code",
    "id": "t7ClZJb0ZknE",
    "outputId": "45b140a5-4a84-43cb-b953-40988137f10c"
   },
   "outputs": [
    {
     "name": "stdout",
     "output_type": "stream",
     "text": [
      "2 0.4213258252228127\n",
      "3 0.3228265206739778\n",
      "4 0.271116735487955\n",
      "5 0.2732222159140612\n",
      "6 0.24682273359576626\n",
      "7 0.232682481836789\n",
      "8 0.2334093669124342\n"
     ]
    }
   ],
   "source": [
    "# Drop NA\n",
    "\n",
    "df_a = df_s[['q7','q8','q9','q10']]\n",
    "\n",
    "Y = df_a.dropna()\n",
    "\n",
    "for k in range(2,9):\n",
    "    kmeans = KMeans(n_clusters=k, random_state=0).fit(Y)\n",
    "    s_score = silhouette_score(Y, kmeans.labels_)\n",
    "    print(k, s_score)"
   ]
  },
  {
   "cell_type": "code",
   "execution_count": 29,
   "metadata": {
    "colab": {
     "base_uri": "https://localhost:8080/",
     "height": 136
    },
    "colab_type": "code",
    "id": "ySmAggc5QNkJ",
    "outputId": "4fe8e8fc-9ea7-47e4-cf19-057c58e380c8"
   },
   "outputs": [
    {
     "name": "stdout",
     "output_type": "stream",
     "text": [
      "2 0.6113801079208747\n",
      "3 0.4919416840278804\n",
      "4 0.5344306059072813\n",
      "5 0.5421128561041991\n",
      "6 0.5660360991006554\n",
      "7 0.5763846849527425\n",
      "8 0.58099167690553\n"
     ]
    }
   ],
   "source": [
    "# Fill NA with 0\n",
    "\n",
    "df_s_f = df_s\n",
    "df_s_f.fillna(value=0, inplace=True)\n",
    "\n",
    "Y = df_s_f[['q7','q8','q9','q10']]\n",
    "\n",
    "for k in range(2,9):\n",
    "    kmeans = KMeans(n_clusters=k, random_state=0).fit(Y)\n",
    "    s_score = silhouette_score(Y, kmeans.labels_)\n",
    "    print(k, s_score)"
   ]
  },
  {
   "cell_type": "markdown",
   "metadata": {
    "colab_type": "text",
    "id": "D3DexLA8RGdn"
   },
   "source": [
    "### ANSWER: k = 2 ###"
   ]
  },
  {
   "cell_type": "markdown",
   "metadata": {
    "colab_type": "text",
    "id": "EiXgZ3MXGXI5"
   },
   "source": [
    "***\n",
    "\n",
    "### Question 4 ###\n",
    "Answer question 2 but using the percentage of the features (q11-q13)\n",
    "\n"
   ]
  },
  {
   "cell_type": "code",
   "execution_count": 30,
   "metadata": {
    "colab": {
     "base_uri": "https://localhost:8080/",
     "height": 136
    },
    "colab_type": "code",
    "id": "GaX17xzqGXI6",
    "outputId": "b383b2de-d8a0-4860-ca48-908799d4d27f"
   },
   "outputs": [
    {
     "name": "stdout",
     "output_type": "stream",
     "text": [
      "2 0.5691653002288268\n",
      "3 0.6760273932075892\n",
      "4 0.7234589653737166\n",
      "5 0.7615932260948528\n",
      "6 0.758455640002874\n",
      "7 0.7725891759027274\n",
      "8 0.7897932310693094\n"
     ]
    }
   ],
   "source": [
    "# Drop NA\n",
    "\n",
    "df_b = df_s[['q11','q12','q13']]\n",
    "\n",
    "Y = df_b.dropna()\n",
    "\n",
    "for k in range(2,9):\n",
    "    kmeans = KMeans(n_clusters=k, random_state=0).fit(Y)\n",
    "    s_score = silhouette_score(Y, kmeans.labels_)\n",
    "    print(k, s_score)"
   ]
  },
  {
   "cell_type": "code",
   "execution_count": 31,
   "metadata": {
    "colab": {
     "base_uri": "https://localhost:8080/",
     "height": 136
    },
    "colab_type": "code",
    "id": "0FjpJtRbsWPO",
    "outputId": "9f964c92-889a-4d7f-ebd1-46cd275b99ca"
   },
   "outputs": [
    {
     "name": "stdout",
     "output_type": "stream",
     "text": [
      "2 0.5691653002288268\n",
      "3 0.6760273932075892\n",
      "4 0.7234589653737166\n",
      "5 0.7615932260948528\n",
      "6 0.758455640002874\n",
      "7 0.7725891759027274\n",
      "8 0.7897932310693094\n"
     ]
    }
   ],
   "source": [
    "# Fill NA with 0 since these are all ratios, NA may be the denominator (total votes) = 0\n",
    "\n",
    "Y = df_s_f[['q11','q12','q13']]\n",
    "\n",
    "for k in range(2,9):\n",
    "    kmeans = KMeans(n_clusters=k, random_state=0).fit(Y)\n",
    "    s_score = silhouette_score(Y, kmeans.labels_)\n",
    "    print(k, s_score)"
   ]
  },
  {
   "cell_type": "markdown",
   "metadata": {
    "colab_type": "text",
    "id": "vbeHEkylQ-UP"
   },
   "source": [
    "### ANSWER: k = 8 ###"
   ]
  },
  {
   "cell_type": "markdown",
   "metadata": {
    "colab_type": "text",
    "id": "9u8shFb9GXI8"
   },
   "source": [
    "***\n",
    "\n",
    "### Question 5 ###\n",
    "Inspect the [best] clustering generated from question 4"
   ]
  },
  {
   "cell_type": "markdown",
   "metadata": {
    "colab_type": "text",
    "id": "4ZwS66z2GXI9"
   },
   "source": [
    "#### 5.a ####\n",
    "**Question**: List the number of data points in each cluster (eg. C1: 2,000 C2: 4,200 etc)"
   ]
  },
  {
   "cell_type": "code",
   "execution_count": 35,
   "metadata": {
    "colab": {
     "base_uri": "https://localhost:8080/",
     "height": 34
    },
    "colab_type": "code",
    "id": "Um_mfn65GXI-",
    "outputId": "a125f5ec-fb7f-4fc6-a395-7a0bec3577ae"
   },
   "outputs": [
    {
     "name": "stdout",
     "output_type": "stream",
     "text": [
      "C1 : 18958, C2 : 33153, C3 : 71282, C4 : 10042, C5 : 18074, C6 : 5811, C7 : 4026, C8 : 10293. \n"
     ]
    }
   ],
   "source": [
    "# YOUR CODE HERE\n",
    "\n",
    "df_f = df\n",
    "df_f.fillna(value=0, inplace=True)\n",
    "\n",
    "Y = df_f[['q11','q12','q13']]\n",
    "k = 8\n",
    "\n",
    "kmeans = KMeans(n_clusters=k, random_state=0).fit(Y)\n",
    "\n",
    "list_label = kmeans.labels_.tolist()\n",
    "\n",
    "c1 = list_label.count(0)\n",
    "c2 = list_label.count(1)\n",
    "c3 = list_label.count(2)\n",
    "c4 = list_label.count(3)\n",
    "c5 = list_label.count(4)\n",
    "c6 = list_label.count(5)\n",
    "c7 = list_label.count(6)\n",
    "c8 = list_label.count(7)\n",
    "\n",
    "print( \"C1 : {}, C2 : {}, C3 : {}, C4 : {}, C5 : {}, C6 : {}, C7 : {}, C8 : {}. \".format(c1,c2,c3,c4,c5,c6,c7,c8) )"
   ]
  },
  {
   "cell_type": "markdown",
   "metadata": {
    "colab_type": "text",
    "id": "bEqw5eaNGXI_"
   },
   "source": [
    "#### 5.b ####\n",
    "**Question**: Were there clusters that represented very funny but useless reviewers?  If so, print them.\n",
    "\n",
    "**Answer**:  "
   ]
  },
  {
   "cell_type": "code",
   "execution_count": 42,
   "metadata": {
    "colab": {
     "base_uri": "https://localhost:8080/",
     "height": 187
    },
    "colab_type": "code",
    "id": "jPD7z9JIZYGz",
    "outputId": "7d4bad25-7991-4cbd-f523-3d6fdda31ec4"
   },
   "outputs": [
    {
     "name": "stdout",
     "output_type": "stream",
     "text": [
      "               q11        q12        q13\n",
      "cluster                                 \n",
      "0        31.596688  30.939013  37.461630\n",
      "1         0.283142   0.393800  99.323041\n",
      "2         0.000000   0.000000   0.000000\n",
      "3         3.703326  44.456666  51.840012\n",
      "4        21.056556  10.766804  68.177308\n",
      "5         1.386662  97.049640   1.563829\n",
      "6        98.205656   0.899779   0.894615\n",
      "7        48.994693   2.325515  48.679865\n"
     ]
    }
   ],
   "source": [
    "# Means of each group (1~8)\n",
    "\n",
    "df['cluster'] = kmeans.labels_\n",
    "mean = df.groupby('cluster').mean()\n",
    "df_mean = pd.DataFrame()\n",
    "df_mean['q11'] = mean['q11']\n",
    "df_mean['q12'] = mean['q12']\n",
    "df_mean['q13'] = mean['q13']\n",
    "\n",
    "print(df_mean)\n"
   ]
  },
  {
   "cell_type": "code",
   "execution_count": 45,
   "metadata": {
    "colab": {
     "base_uri": "https://localhost:8080/",
     "height": 1071
    },
    "colab_type": "code",
    "id": "H5H6aXBGF8HG",
    "outputId": "5c0f1dcb-67f2-4b8c-8d5b-175467e2c28d"
   },
   "outputs": [
    {
     "name": "stdout",
     "output_type": "stream",
     "text": [
      "10        --D6B8SF9EAIaS4O7wLVJw\n",
      "13        --JC6ri9lh1-tazGOFA3yg\n",
      "29        --mUxQG05DwbTd_Y8uCAFw\n",
      "39        -0-VtlGnGqOcTwDK-WivBQ\n",
      "175       -3Ap7ootO4TIu4k725_6sQ\n",
      "199       -3eJTCKXSDY6ZvIng-jIoA\n",
      "213       -3vG-bLDopHV-q5v5mmRxg\n",
      "299       -6KDFG8HN1xldJE1pGTnwg\n",
      "317       -6kx-CN42cAvXgO8qiS8EA\n",
      "318       -6lE7d3bk-I8x5qQTfkGLQ\n",
      "320       -6o9ZP_9SQznWR9Jz-bP2g\n",
      "365       -7iKlPj7TIBKaY-5OANi9g\n",
      "372       -7u0ORuRj5nRPxM3Do9axA\n",
      "387       -8ES3xZyJuBUMmFNyzxKgA\n",
      "485       -AYwTUHKlKK5B_gtGba3UQ\n",
      "501       -B32HlBjDRafJpD_eW5pxw\n",
      "510       -BFtZw3FybgNEwzoWljQ3Q\n",
      "520       -B_wKTfcRxGjchsqsc4fPA\n",
      "522       -Bbs0C1lzVvW6-5OYp_yUw\n",
      "548       -CZ3BYqA7xbcti0gWODWkw\n",
      "611       -ECKlfeVcmBSY-Wdt-oPDQ\n",
      "625       -ESkYkhwSsB1DeflMVJhXA\n",
      "639       -EkwH-zZsiYmSxbFEYWT4g\n",
      "656       -FFFkkCjDVsujL-4UoLASA\n",
      "658       -FIf6h5k9wYMea5v7gukqg\n",
      "659       -FJPYc82-vJZGUBrKCUPuQ\n",
      "661       -FP5UB8n-LtBjJ1Zwj95ow\n",
      "750       -HYD2dWhxU6oAr4w3BPLtQ\n",
      "793       -ImyzB4PNtxQNx8Rs7Cedg\n",
      "799       -IpbvH7EWk6yUjrxDfYaKQ\n",
      "                   ...          \n",
      "170813    zg85gWs5JtJpFUmVyJwpbw\n",
      "170839    zgq0agO8pTKMhD_B3EBbhQ\n",
      "170895    zi4MAJ_-7mNHpFWWVT_FQg\n",
      "170995    zkPL5xmpm_XUSQjYuiPlhg\n",
      "171011    zkf0uQAAPNVPypf1nVcBUw\n",
      "171025    zkyR1T_9Pu5Dkt5K4GGa-Q\n",
      "171040    zlJgiCrPo9DOc0tL-hOpHA\n",
      "171081    zm8_5RLIiwsoHflm4xLWrQ\n",
      "171089    zmL2NUFAh2hR0X4hRF5pnQ\n",
      "171104    zmjLXWA5Xfy_L8JHAXshRw\n",
      "171107    zmkeac2F6lLZuGe-Xs8DWQ\n",
      "171135    znELhQEgljjituzwtW3inw\n",
      "171178    zo2cosYGd5ITMdB0MQhHMA\n",
      "171193    zoFwxMfm8cIJ6fxynum15A\n",
      "171217    zofDEI42pes9CuDHsXAFgQ\n",
      "171243    zpISyKO_qM6TMVbUqCPtYw\n",
      "171293    zqhijiWsuCu7-nn5nUzByg\n",
      "171422    zuA84UZg4QiB1iBJNHkp9Q\n",
      "171442    zubR9zNExrdKykUZCEctYA\n",
      "171467    zvIqZBoOXOtH2mibuyN4nQ\n",
      "171494    zwDIIJa1mUwQGD2lYdNP9A\n",
      "171502    zwMJJs9sCNYvKcm3V_yUPA\n",
      "171541    zxaLbUCv7-9V8CokBb1w6w\n",
      "171566    zyF5SEkEoJQYSS2-f86hcg\n",
      "171572    zyMkvccgGscNfqpSLStcfg\n",
      "171600    zz-CotJjQra5-yaFDXyecw\n",
      "171608    zzFRPJ3y9OUHHIlQO6NOaA\n",
      "171616    zzV2ND3V2gypodwjCbafuQ\n",
      "171629    zzlEOrvF8EkkX4fxCwPZdw\n",
      "171636    zzwu0nG0MCUP43zNSr5k-A\n",
      "Name: user_id, Length: 5811, dtype: object\n"
     ]
    }
   ],
   "source": [
    "# Pick the one with high q12 but low q13\n",
    "df_fun_useless = df[df['cluster']==5]\n",
    "print(df_fun_useless['user_id'])"
   ]
  },
  {
   "cell_type": "markdown",
   "metadata": {
    "colab_type": "text",
    "id": "5rN_IMnkQ6cZ"
   },
   "source": [
    "### ANSWER: Yes. It's c6 (cluster==5) ###\n",
    "### c6 is the one with lowest useful vote rate (97.0%), and highest funny vote rate (1.5%) ###"
   ]
  },
  {
   "cell_type": "markdown",
   "metadata": {
    "colab_type": "text",
    "id": "P-FX3pRjGXJB"
   },
   "source": [
    "#### 5.c ####\n",
    "**Question**: How many reviewers were in the cluster that represented relatively equal strength in all voting categories (assuming such a cluster exists in your clustering)?  \n",
    "\n",
    "**Answer**:"
   ]
  },
  {
   "cell_type": "code",
   "execution_count": 43,
   "metadata": {
    "colab": {
     "base_uri": "https://localhost:8080/",
     "height": 51
    },
    "colab_type": "code",
    "id": "iHdgSL8YGXJB",
    "outputId": "b12f588a-62d9-45b6-a6f8-2a74008982c3"
   },
   "outputs": [
    {
     "name": "stdout",
     "output_type": "stream",
     "text": [
      "18958\n",
      "71282\n"
     ]
    }
   ],
   "source": [
    "# Relatively equal votes\n",
    "\n",
    "print(len(df[df['cluster']==0]))\n",
    "print(len(df[df['cluster']==2]))"
   ]
  },
  {
   "cell_type": "markdown",
   "metadata": {
    "colab_type": "text",
    "id": "ccZh7AhHQ5c2"
   },
   "source": [
    "### ANSWER: The groups that with relatively equal votes are C1 and C3, and their number of reviewers are 18958 and 71282 respectively. ###"
   ]
  },
  {
   "cell_type": "markdown",
   "metadata": {
    "colab_type": "text",
    "id": "nnJxzDvHGXJC"
   },
   "source": [
    "***\n",
    "\n",
    "### Question 6 ###\n",
    "Cluster the dataset using $k = 5$ and using features q7-q13 (log and % type votes) and q14 (most active year feature) and the natural log of q15 (avg review chars)"
   ]
  },
  {
   "cell_type": "code",
   "execution_count": 0,
   "metadata": {
    "colab": {},
    "colab_type": "code",
    "collapsed": true,
    "id": "Lxxn3KfOGXJC"
   },
   "outputs": [],
   "source": [
    "# YOUR CODE HERE\n",
    "\n",
    "import math\n",
    "\n",
    "df_c = df_f.loc[ (df_f['q15']!=0) ]\n",
    "df_c['log15'] = df_c['q15'].apply(lambda x: math.log(x))\n",
    "Y = df_c[['q7','q8','q9','q10','q11','q12','q13','q14','log15']]\n",
    "\n",
    "k = 5\n",
    "kmeans = KMeans(n_clusters=k, random_state=0).fit(Y)"
   ]
  },
  {
   "cell_type": "markdown",
   "metadata": {
    "colab_type": "text",
    "id": "4Z8XlbY-Q4Jn"
   },
   "source": [
    "### ANSWER: ###"
   ]
  },
  {
   "cell_type": "markdown",
   "metadata": {
    "colab_type": "text",
    "id": "-RuNWqDlGXJD"
   },
   "source": [
    "#### 6.a ####\n",
    "**Question**: What is the silhouette metric for this clustering?   \n",
    "You may use the max, as you did in question 2. For a more in-depth understanding of cluster analysis with silhouette, look [here](http://scikit-learn.org/stable/auto_examples/cluster/plot_kmeans_silhouette_analysis.html)"
   ]
  },
  {
   "cell_type": "code",
   "execution_count": 48,
   "metadata": {
    "colab": {
     "base_uri": "https://localhost:8080/",
     "height": 34
    },
    "colab_type": "code",
    "id": "vY_h7wuoGXJE",
    "outputId": "14c38d64-657e-4bb7-ce87-3e956fbe1e4b"
   },
   "outputs": [
    {
     "name": "stdout",
     "output_type": "stream",
     "text": [
      "0.7350661974287377\n"
     ]
    }
   ],
   "source": [
    "# YOUR CODE HERE\n",
    "s_score = silhouette_score(Y, kmeans.labels_)\n",
    "print(s_score)"
   ]
  },
  {
   "cell_type": "markdown",
   "metadata": {
    "colab_type": "text",
    "id": "9DCHVCvVQ3Ku"
   },
   "source": [
    "### ANSWER: ###"
   ]
  },
  {
   "cell_type": "markdown",
   "metadata": {
    "colab_type": "text",
    "id": "QvlvfvbVGXJE"
   },
   "source": [
    "#### 6.b ####\n",
    "**Question**: What was the average “number of reviews per reviewer (q3)” among the points in each of the clusters (eg. C1: 1.4 C2: 4.2 C3: 3.4 etc)"
   ]
  },
  {
   "cell_type": "code",
   "execution_count": 54,
   "metadata": {
    "colab": {
     "base_uri": "https://localhost:8080/",
     "height": 136
    },
    "colab_type": "code",
    "id": "sSNQRXwoGXJF",
    "outputId": "eabf702a-a28d-4fc1-e7e5-ac682411b18d"
   },
   "outputs": [
    {
     "name": "stdout",
     "output_type": "stream",
     "text": [
      "                 q3\n",
      "cluster_2          \n",
      "0          2.810288\n",
      "1          5.457982\n",
      "2          1.683875\n",
      "3          3.224257\n",
      "4          2.645331\n"
     ]
    }
   ],
   "source": [
    "# YOUR CODE HERE\n",
    "\n",
    "df_c['cluster_2'] = kmeans.labels_\n",
    "mean = df_c.groupby('cluster_2').mean()\n",
    "print(mean[['q3']])"
   ]
  },
  {
   "cell_type": "markdown",
   "metadata": {
    "colab_type": "text",
    "id": "GzC1KnZsQ2IX"
   },
   "source": [
    "### ANSWER: ###"
   ]
  },
  {
   "cell_type": "markdown",
   "metadata": {
    "colab_type": "text",
    "id": "52Pmqye4GXJF"
   },
   "source": [
    "***\n",
    "\n",
    "### Question 7 ###\n",
    "Cluster the dataset using the features described in question 6 + every group’s question 16 features (you may drop features with high incidents of -Inf / blank / or NaN values). It is suggested that you perform some form of normalization on these question 16 features so as not to over bias the clustering towards the larger magnitude features."
   ]
  },
  {
   "cell_type": "markdown",
   "metadata": {
    "colab_type": "text",
    "id": "yTj3QzIIGXJG"
   },
   "source": [
    "#### Data Cleansing and Normalization ####\n",
    "Check how many null values there are in each column."
   ]
  },
  {
   "cell_type": "code",
   "execution_count": 58,
   "metadata": {
    "colab": {
     "base_uri": "https://localhost:8080/",
     "height": 765
    },
    "colab_type": "code",
    "id": "yf34gbjTGXJG",
    "outputId": "bf96d186-6f01-4ce5-d5a3-13ce05d8a0e5"
   },
   "outputs": [
    {
     "data": {
      "text/plain": [
       "user_id         0\n",
       "q3              0\n",
       "q4              0\n",
       "q5              0\n",
       "q6              0\n",
       "q7              0\n",
       "q8         117853\n",
       "q9         122162\n",
       "q10         81153\n",
       "q11         71282\n",
       "q12         71282\n",
       "q13         71282\n",
       "q14             0\n",
       "q15             0\n",
       "q16a            0\n",
       "q16b            0\n",
       "q16c            0\n",
       "q16d            0\n",
       "q16e            0\n",
       "q16f            0\n",
       "q16g            0\n",
       "q16h            0\n",
       "q16i            0\n",
       "q16j            0\n",
       "q16k            0\n",
       "q16l            0\n",
       "q16m            0\n",
       "q16n            0\n",
       "q16o            0\n",
       "q16p            0\n",
       "q16q            0\n",
       "q16r            0\n",
       "q16s            0\n",
       "q16t            0\n",
       "q16u            0\n",
       "q16v            0\n",
       "q16w            0\n",
       "q16x            0\n",
       "q16y            0\n",
       "q16z            0\n",
       "q16aa           0\n",
       "q16ab       47594\n",
       "q16ac           0\n",
       "dtype: int64"
      ]
     },
     "execution_count": 58,
     "metadata": {
      "tags": []
     },
     "output_type": "execute_result"
    }
   ],
   "source": [
    "# YOUR CODE HERE\n",
    "df.isna().sum()"
   ]
  },
  {
   "cell_type": "markdown",
   "metadata": {
    "colab_type": "text",
    "id": "AcS-JavoGXJG"
   },
   "source": [
    "It looks like q8 - q13 and q16ab have a lot of null values, especially q8 and q9. Let's see what the impact is of removing some of these columnsbefore removing any columns"
   ]
  },
  {
   "cell_type": "code",
   "execution_count": 78,
   "metadata": {
    "colab": {
     "base_uri": "https://localhost:8080/",
     "height": 51
    },
    "colab_type": "code",
    "id": "2MkrIvB-GXJG",
    "outputId": "12e5bb39-4359-4bb1-efa0-d09a009fe491"
   },
   "outputs": [
    {
     "name": "stdout",
     "output_type": "stream",
     "text": [
      "24205\n",
      "65546\n"
     ]
    }
   ],
   "source": [
    "# YOUR CODE HERE\n",
    "\n",
    "df_1 = df.drop(columns = ['q3','q4','q5','q6'])\n",
    "df_1 = df_1.dropna()\n",
    "\n",
    "df_2 = df.drop(columns = ['q3','q4','q5','q6',   'q8','q9'])\n",
    "df_2 = df_2.dropna()\n",
    "\n",
    "print( len( df_1 ) )\n",
    "print( len( df_2 ) )"
   ]
  },
  {
   "cell_type": "markdown",
   "metadata": {
    "colab_type": "text",
    "id": "G-RfySa5GXJH"
   },
   "source": [
    "By removing 2 features, we double the number of rows remaining. That's pretty good.  \n",
    "Preprocess categorical variables to dummy values."
   ]
  },
  {
   "cell_type": "code",
   "execution_count": 79,
   "metadata": {
    "colab": {
     "base_uri": "https://localhost:8080/",
     "height": 663
    },
    "colab_type": "code",
    "id": "TNMEwwghGXJH",
    "outputId": "f6880adf-87d1-4585-b820-e980feac5f2b"
   },
   "outputs": [
    {
     "data": {
      "text/plain": [
       "user_id     object\n",
       "q7         float64\n",
       "q10        float64\n",
       "q11        float64\n",
       "q12        float64\n",
       "q13        float64\n",
       "q14          int64\n",
       "q15        float64\n",
       "q16a         int64\n",
       "q16b       float64\n",
       "q16c       float64\n",
       "q16d       float64\n",
       "q16e       float64\n",
       "q16f       float64\n",
       "q16g         int64\n",
       "q16h         int64\n",
       "q16i         int64\n",
       "q16j       float64\n",
       "q16k         int64\n",
       "q16l         int64\n",
       "q16m       float64\n",
       "q16n       float64\n",
       "q16o       float64\n",
       "q16p       float64\n",
       "q16q       float64\n",
       "q16r         int64\n",
       "q16s        object\n",
       "q16t        object\n",
       "q16u       float64\n",
       "q16v         int64\n",
       "q16w         int64\n",
       "q16x       float64\n",
       "q16y       float64\n",
       "q16z         int64\n",
       "q16aa        int64\n",
       "q16ab      float64\n",
       "q16ac      float64\n",
       "dtype: object"
      ]
     },
     "execution_count": 79,
     "metadata": {
      "tags": []
     },
     "output_type": "execute_result"
    }
   ],
   "source": [
    "# Check column type\n",
    "\n",
    "df_2.dtypes"
   ]
  },
  {
   "cell_type": "code",
   "execution_count": 0,
   "metadata": {
    "colab": {},
    "colab_type": "code",
    "collapsed": true,
    "id": "nGkeAhYUiuED"
   },
   "outputs": [],
   "source": [
    "df_3 = pd.get_dummies(df_2[['q16s','q16t']])"
   ]
  },
  {
   "cell_type": "markdown",
   "metadata": {
    "colab_type": "text",
    "id": "8fY8h-WHGXJI"
   },
   "source": [
    "Now normalize the remaining features."
   ]
  },
  {
   "cell_type": "code",
   "execution_count": 83,
   "metadata": {
    "colab": {
     "base_uri": "https://localhost:8080/",
     "height": 510
    },
    "colab_type": "code",
    "id": "MwpkQG5BGXJI",
    "outputId": "f2b9ee41-3beb-4a28-f4b0-c78fcebcbf4e"
   },
   "outputs": [
    {
     "name": "stdout",
     "output_type": "stream",
     "text": [
      "         q7       q10       q11       q12       q13       q14      q16a  \\\n",
      "1 -0.008373 -0.970540 -0.923858 -0.794090  1.190034  0.338026 -0.671293   \n",
      "3 -0.008373 -0.970540 -0.923858 -0.794090  1.190034  0.790749 -0.005596   \n",
      "5 -0.008373  0.200271 -0.923858 -0.794090  1.190034  0.338026 -0.671293   \n",
      "6  1.144595  0.934690  0.457137 -0.794090  0.221562  0.338026  2.657190   \n",
      "9 -0.490737 -0.970540 -0.923858  2.043068 -0.746910  0.338026 -0.005596   \n",
      "\n",
      "       q16b      q16c      q16d    ...         q16y      q16z     q16aa  \\\n",
      "1 -0.346419 -0.134327  0.946036    ...    -0.923302  0.571247 -0.238609   \n",
      "3  1.768061 -0.235786  0.125263    ...    -0.193118 -0.385224 -0.238609   \n",
      "5  1.768061 -0.105841  0.125263    ...    -0.570482 -0.385224 -0.238609   \n",
      "6  1.384890 -0.116397 -0.114130    ...    -0.549198 -0.385224 -0.238609   \n",
      "9  1.538453 -0.096514 -0.011533    ...    -0.280556 -0.385224 -0.238609   \n",
      "\n",
      "      q16ab     q16ac     log15  q16s_experienced  q16s_freshman  q16t_no  \\\n",
      "1 -0.279577  0.946036 -1.704945                 1              0        1   \n",
      "3 -0.279577  0.125263 -0.081841                 1              0        1   \n",
      "5 -0.046392  0.125263 -0.449298                 1              0        1   \n",
      "6 -0.046392 -0.114130 -0.364067                 1              0        0   \n",
      "9 -0.046392 -0.011533 -0.520411                 1              0        1   \n",
      "\n",
      "   q16t_yes  \n",
      "1         0  \n",
      "3         0  \n",
      "5         0  \n",
      "6         1  \n",
      "9         0  \n",
      "\n",
      "[5 rows x 38 columns]\n"
     ]
    }
   ],
   "source": [
    "df_4 = df_2.drop(columns = ['user_id','q16s','q16t'])\n",
    "df_4['log15'] = df_4['q15'].apply(lambda x: math.log(x))\n",
    "df_4 = df_4.drop(columns = ['q15'])\n",
    "\n",
    "normalized_df=(df_4 - df_4.mean()) / df_4.std()\n",
    "\n",
    "df_5 = pd.concat([normalized_df, df_3], axis=1)\n",
    "\n",
    "print(df_5.head())"
   ]
  },
  {
   "cell_type": "markdown",
   "metadata": {
    "colab_type": "text",
    "id": "2SibN2MAGXJJ"
   },
   "source": [
    "#### 7.a ####\n",
    "**Question**: Using the silhouette metric, what was the best k?  \n",
    "\n",
    "**Answer**:  "
   ]
  },
  {
   "cell_type": "code",
   "execution_count": 84,
   "metadata": {
    "colab": {
     "base_uri": "https://localhost:8080/",
     "height": 136
    },
    "colab_type": "code",
    "id": "Aqfl5LpMGXJJ",
    "outputId": "223b7ea2-93db-4d16-aba2-75a45fbee504"
   },
   "outputs": [
    {
     "name": "stdout",
     "output_type": "stream",
     "text": [
      "2 0.11425266909422802\n",
      "3 0.10212519930324153\n",
      "4 0.10386199279728914\n",
      "5 0.10262978788826137\n",
      "6 0.10289606693122941\n",
      "7 0.10566732976017826\n",
      "8 0.09318304584849725\n"
     ]
    }
   ],
   "source": [
    "Y = df_5\n",
    "\n",
    "for k in range(2,9):\n",
    "    kmeans = KMeans(n_clusters=k, random_state=0).fit(Y)\n",
    "    s_score = silhouette_score(Y, kmeans.labels_)\n",
    "    print(k, s_score)"
   ]
  },
  {
   "cell_type": "markdown",
   "metadata": {
    "colab_type": "text",
    "id": "5ywhhz4HQzBc"
   },
   "source": [
    "### ANSWER: As the scores shown above, when k=2 we could get much higher score. ###"
   ]
  },
  {
   "cell_type": "markdown",
   "metadata": {
    "colab_type": "text",
    "id": "iK3SxQbfGXJL"
   },
   "source": [
    "#### 7.b ####\n",
    "**Question**: Using the the sum of within cluster variance metric with the elbow method what was the best k?  \n",
    "**Answer**:  "
   ]
  },
  {
   "cell_type": "code",
   "execution_count": 88,
   "metadata": {
    "colab": {
     "base_uri": "https://localhost:8080/",
     "height": 136
    },
    "colab_type": "code",
    "id": "WhgK6Z43GXJL",
    "outputId": "85d029d9-9ac4-44e5-ed06-177b62bbea13"
   },
   "outputs": [
    {
     "name": "stdout",
     "output_type": "stream",
     "text": [
      "2 65.05446747881629\n",
      "3 89.15503658809561\n",
      "4 129.3437461615741\n",
      "5 123.592215249123\n",
      "6 197.18459319750903\n",
      "7 211.63258429552334\n",
      "8 209.8501379784086\n"
     ]
    }
   ],
   "source": [
    "Y = df_5\n",
    "\n",
    "for k in range(2, 9):\n",
    "    kmeans = KMeans(n_clusters=k, random_state=0).fit(Y)\n",
    "    df_5['cluster'] = kmeans.labels_\n",
    "    df_var = df_5.groupby('cluster').var()\n",
    "    v_score = df_var.sum(axis=1).sum(axis=0)\n",
    "    print(k, v_score)"
   ]
  },
  {
   "cell_type": "markdown",
   "metadata": {
    "colab_type": "text",
    "id": "IW4vauzUQxt0"
   },
   "source": [
    "### ANSWER: As the sum of variance shown above, when k=2 we could get the smalest sum of variance, which is the most desired score. ###"
   ]
  },
  {
   "cell_type": "markdown",
   "metadata": {
    "colab_type": "text",
    "id": "fmx5E432GXJO"
   },
   "source": [
    "### Question 8 ###\n",
    "For this question please come up with your own question about this dataset and using a clustering technique as part of your method of answering it. Describe in short the question, and how clustering can answer that question.\n"
   ]
  },
  {
   "cell_type": "markdown",
   "metadata": {
    "colab_type": "text",
    "id": "ELNvoX6JuuvQ"
   },
   "source": [
    "\n",
    "\n",
    "```\n",
    "Do dummy variables need to be normalized? Compare the clustering results by within-cluster variance metric\n",
    "```\n",
    "\n"
   ]
  },
  {
   "cell_type": "code",
   "execution_count": 89,
   "metadata": {
    "colab": {
     "base_uri": "https://localhost:8080/",
     "height": 136
    },
    "colab_type": "code",
    "id": "5-1coA8ausu4",
    "outputId": "f01ebbd1-79ba-454b-81be-3b6b97853d2c"
   },
   "outputs": [
    {
     "name": "stdout",
     "output_type": "stream",
     "text": [
      "2 78.26918312332558\n",
      "3 108.22447802596838\n",
      "4 133.6027555669955\n",
      "5 165.4258756132174\n",
      "6 203.79806608386662\n",
      "7 227.45042819774184\n",
      "8 351.96632071054546\n"
     ]
    }
   ],
   "source": [
    "df_4 = df_2.drop(columns = ['user_id','q16s','q16t'])\n",
    "df_4['log15'] = df_4['q15'].apply(lambda x: math.log(x))\n",
    "df_4 = df_4.drop(columns = ['q15'])\n",
    "\n",
    "df_6 = pd.concat([df_4, df_3], axis=1)\n",
    "df_6=(df_6 - df_6.mean()) / df_6.std()\n",
    "\n",
    "Y = df_6\n",
    "\n",
    "for k in range(2, 9):\n",
    "    kmeans = KMeans(n_clusters=k, random_state=0).fit(Y)\n",
    "    df_6['cluster'] = kmeans.labels_\n",
    "    df_var = df_6.groupby('cluster').var()\n",
    "    v_score = df_var.sum(axis=1).sum(axis=0)\n",
    "    print(k, v_score)"
   ]
  },
  {
   "cell_type": "markdown",
   "metadata": {
    "colab_type": "text",
    "id": "z1WUX_VmQgv9"
   },
   "source": [
    "### ANSWER:  No need. When dummy variables normalized, the metric is worse than not. Therefor, in this test the dummy variables do not need to be normalized. ###"
   ]
  },
  {
   "cell_type": "markdown",
   "metadata": {
    "colab_type": "text",
    "id": "dTCAjTnTGXJQ"
   },
   "source": [
    "## Bonus question (+20%) - Reviewer overlap:\n",
    "Create a dataset with f reviewers as the rows and business_ids as the columns (there are a lot) where the feature value is is ‘1’ if the reviewer has written a review for that business and ‘0’ if not. Use the methods described in this assignment to answer the question of how much overlap of businesses reviewed exists among reviewers in this dataset. Print head() of this newly created dataset."
   ]
  },
  {
   "cell_type": "code",
   "execution_count": 1,
   "metadata": {
    "colab": {
     "base_uri": "https://localhost:8080/",
     "height": 204
    },
    "colab_type": "code",
    "id": "PceEPMDWGXJR",
    "outputId": "f89345fe-cd88-4ec1-e526-8ee5d159d292"
   },
   "outputs": [
    {
     "name": "stdout",
     "output_type": "stream",
     "text": [
      "--2019-02-14 21:35:06--  http://people.ischool.berkeley.edu/~zp/course_datasets/yelp_reviews.csv\n",
      "Resolving people.ischool.berkeley.edu (people.ischool.berkeley.edu)... 128.32.78.16\n",
      "Connecting to people.ischool.berkeley.edu (people.ischool.berkeley.edu)|128.32.78.16|:80... connected.\n",
      "HTTP request sent, awaiting response... 200 OK\n",
      "Length: 376638166 (359M) [text/csv]\n",
      "Saving to: ‘yelp_reviews.csv.5’\n",
      "\n",
      "yelp_reviews.csv.5  100%[===================>] 359.19M  12.3MB/s    in 43s     \n",
      "\n",
      "2019-02-14 21:35:49 (8.30 MB/s) - ‘yelp_reviews.csv.5’ saved [376638166/376638166]\n",
      "\n"
     ]
    }
   ],
   "source": [
    "import pandas as pd\n",
    "from sklearn.cluster import KMeans\n",
    "from sklearn.metrics import silhouette_score\n",
    "import numpy as np\n",
    "from sklearn.preprocessing import normalize\n",
    "\n",
    "!wget http://people.ischool.berkeley.edu/~zp/course_datasets/yelp_reviews.csv\n",
    "df_review = pd.read_csv('yelp_reviews.csv')"
   ]
  },
  {
   "cell_type": "code",
   "execution_count": 0,
   "metadata": {
    "colab": {},
    "colab_type": "code",
    "collapsed": true,
    "id": "wJjmNjg_xz21"
   },
   "outputs": [],
   "source": [
    "df_A = df_review.sample(n = int( len(df_review)*0.3) ) \n",
    "\n",
    "df_B = df_A.groupby(['user_id', 'business_id']).size()\n",
    "df_C = df_B.reset_index().iloc[:,0:2]\n",
    "df_C['cnt'] = 1\n",
    "df_D = pd.pivot_table(df_C, values='cnt', index='user_id', columns=['business_id'], aggfunc=np.sum )"
   ]
  },
  {
   "cell_type": "code",
   "execution_count": 5,
   "metadata": {
    "colab": {
     "base_uri": "https://localhost:8080/",
     "height": 1156
    },
    "colab_type": "code",
    "id": "k82M7p7774G0",
    "outputId": "15d6f660-31be-4afe-e41d-c0b4370b5e17"
   },
   "outputs": [
    {
     "name": "stdout",
     "output_type": "stream",
     "text": [
      "business_id             --5jkZ3-nUPZxUvtcbr8Uw  --jFTZmywe7StuZ2hEjxyA  \\\n",
      "user_id                                                                  \n",
      "5kH4RrEyebBr75ASdxnzSg                     1.0                     0.0   \n",
      "QbMJhsqG1zWlzoOBPFwDnQ                     1.0                     0.0   \n",
      "tCa2ajxRYbX_RiUX0VPlfA                     1.0                     0.0   \n",
      "\n",
      "business_id             -0Ackw6MF82PXO9f9Jh_Kg  -0Oh0BEtQEC9OmmzZ_H5Bg  \\\n",
      "user_id                                                                  \n",
      "5kH4RrEyebBr75ASdxnzSg                     0.0                     0.0   \n",
      "QbMJhsqG1zWlzoOBPFwDnQ                     0.0                     0.0   \n",
      "tCa2ajxRYbX_RiUX0VPlfA                     0.0                     0.0   \n",
      "\n",
      "business_id             -1ERbsOf9XOC9wGbZYFr7g  -1tQu_yKCOgOj-WtXmMYIA  \\\n",
      "user_id                                                                  \n",
      "5kH4RrEyebBr75ASdxnzSg                     0.0                     0.0   \n",
      "QbMJhsqG1zWlzoOBPFwDnQ                     0.0                     0.0   \n",
      "tCa2ajxRYbX_RiUX0VPlfA                     0.0                     0.0   \n",
      "\n",
      "business_id             -25FveJPYkjFxVJhu75F3w  -27u-98Ugczq_xsNPdcvEg  \\\n",
      "user_id                                                                  \n",
      "5kH4RrEyebBr75ASdxnzSg                     0.0                     0.0   \n",
      "QbMJhsqG1zWlzoOBPFwDnQ                     0.0                     0.0   \n",
      "tCa2ajxRYbX_RiUX0VPlfA                     0.0                     0.0   \n",
      "\n",
      "business_id             -2JwNR9k7Df7bkbl93IvJQ  -2b5uNj_OLmDrWYIQoSjWg  \\\n",
      "user_id                                                                  \n",
      "5kH4RrEyebBr75ASdxnzSg                     0.0                     0.0   \n",
      "QbMJhsqG1zWlzoOBPFwDnQ                     0.0                     0.0   \n",
      "tCa2ajxRYbX_RiUX0VPlfA                     0.0                     0.0   \n",
      "\n",
      "business_id                      ...            zwGhUe335Hvcv10_2YiaMA  \\\n",
      "user_id                          ...                                     \n",
      "5kH4RrEyebBr75ASdxnzSg           ...                               0.0   \n",
      "QbMJhsqG1zWlzoOBPFwDnQ           ...                               0.0   \n",
      "tCa2ajxRYbX_RiUX0VPlfA           ...                               0.0   \n",
      "\n",
      "business_id             zx6iPJg8nLkgzD_7p3qOnA  zxD8WoHXyXDCD_sTywmogQ  \\\n",
      "user_id                                                                  \n",
      "5kH4RrEyebBr75ASdxnzSg                     0.0                     0.0   \n",
      "QbMJhsqG1zWlzoOBPFwDnQ                     0.0                     0.0   \n",
      "tCa2ajxRYbX_RiUX0VPlfA                     0.0                     0.0   \n",
      "\n",
      "business_id             zxjMiqlfUuIQRltSuj9FpQ  zxo9nZwhlW1ZM7OUJP_1ag  \\\n",
      "user_id                                                                  \n",
      "5kH4RrEyebBr75ASdxnzSg                     0.0                     0.0   \n",
      "QbMJhsqG1zWlzoOBPFwDnQ                     0.0                     0.0   \n",
      "tCa2ajxRYbX_RiUX0VPlfA                     0.0                     0.0   \n",
      "\n",
      "business_id             zxqvU415r_RtZRKDtdbIKQ  zyZ883vct64bKzNv4wy6Yg  \\\n",
      "user_id                                                                  \n",
      "5kH4RrEyebBr75ASdxnzSg                     0.0                     0.0   \n",
      "QbMJhsqG1zWlzoOBPFwDnQ                     0.0                     0.0   \n",
      "tCa2ajxRYbX_RiUX0VPlfA                     0.0                     0.0   \n",
      "\n",
      "business_id             zyvujnBGGpG3WWiDPkil9w  zzknylIEbiITBePfIYjXfA  \\\n",
      "user_id                                                                  \n",
      "5kH4RrEyebBr75ASdxnzSg                     0.0                     0.0   \n",
      "QbMJhsqG1zWlzoOBPFwDnQ                     0.0                     0.0   \n",
      "tCa2ajxRYbX_RiUX0VPlfA                     0.0                     0.0   \n",
      "\n",
      "business_id             zzrm5HEoYKEsfdi8XxSXuQ  \n",
      "user_id                                         \n",
      "5kH4RrEyebBr75ASdxnzSg                     0.0  \n",
      "QbMJhsqG1zWlzoOBPFwDnQ                     0.0  \n",
      "tCa2ajxRYbX_RiUX0VPlfA                     0.0  \n",
      "\n",
      "[3 rows x 16437 columns]\n"
     ]
    }
   ],
   "source": [
    "df_E = df_D\n",
    "df_E.fillna(value=0, inplace=True)\n",
    "\n",
    "print(df_E[df_E['--5jkZ3-nUPZxUvtcbr8Uw']==1])"
   ]
  },
  {
   "cell_type": "code",
   "execution_count": 11,
   "metadata": {
    "colab": {
     "base_uri": "https://localhost:8080/",
     "height": 153
    },
    "colab_type": "code",
    "id": "T_X23zRh9C_v",
    "outputId": "869e93f3-1089-4a21-a014-d570c12c4205"
   },
   "outputs": [
    {
     "name": "stdout",
     "output_type": "stream",
     "text": [
      "                         sum  overlap\n",
      "business_id                          \n",
      "--5jkZ3-nUPZxUvtcbr8Uw   3.0        1\n",
      "--jFTZmywe7StuZ2hEjxyA   1.0        0\n",
      "-0Ackw6MF82PXO9f9Jh_Kg  15.0        1\n",
      "-0Oh0BEtQEC9OmmzZ_H5Bg   3.0        1\n",
      "-1ERbsOf9XOC9wGbZYFr7g   8.0        1\n",
      "4.4220964896270605\n"
     ]
    }
   ],
   "source": [
    "sum_business = pd.DataFrame(df_E.sum(axis=0))\n",
    "sum_business.columns = ['sum']\n",
    "\n",
    "def fun (x):\n",
    "    if x['sum'] >= 2 :\n",
    "      return 1\n",
    "    elif x['sum'] == 1 :\n",
    "      return 0\n",
    "    \n",
    "sum_business['overlap'] = sum_business.apply(lambda x: fun(x), axis=1)\n",
    "\n",
    "print(sum_business.head())"
   ]
  },
  {
   "cell_type": "code",
   "execution_count": 12,
   "metadata": {
    "colab": {
     "base_uri": "https://localhost:8080/",
     "height": 34
    },
    "colab_type": "code",
    "id": "DUEul-bdAYT5",
    "outputId": "5258fcf3-bcb2-4f02-e251-46bc02ffcb75"
   },
   "outputs": [
    {
     "name": "stdout",
     "output_type": "stream",
     "text": [
      "0.4805621463770761\n"
     ]
    }
   ],
   "source": [
    "\n",
    "print(sum_business['overlap'].mean())"
   ]
  },
  {
   "cell_type": "markdown",
   "metadata": {
    "colab_type": "text",
    "id": "zc9todXZASoH"
   },
   "source": [
    "### ANSWER: As the mean above, the overlap ratio of business is 48.06%. ###"
   ]
  },
  {
   "cell_type": "markdown",
   "metadata": {
    "colab_type": "text",
    "id": "6eUxq9lpR30n"
   },
   "source": [
    "## Bonus question #2 (+10%) - Do you like Boba?\n",
    "\n",
    "    A. YEAH\n",
    "    B. NO\n",
    "    B. HELL YEAH\n",
    " \n",
    " ### **Justify your answer. Put extra effort into your justification if you choose 'B'.**\n",
    "    \n"
   ]
  },
  {
   "cell_type": "markdown",
   "metadata": {
    "colab_type": "text",
    "id": "yj5Qxv3qTe3k"
   },
   "source": [
    "### ANSWER: For sure A. I am from Taiwan, and Boba is the pride of Taiwanese. I wish everyone enjoys boba very much!!! ###"
   ]
  },
  {
   "cell_type": "code",
   "execution_count": 0,
   "metadata": {
    "colab": {},
    "colab_type": "code",
    "collapsed": true,
    "id": "0uFjESMltpuD"
   },
   "outputs": [],
   "source": []
  }
 ],
 "metadata": {
  "colab": {
   "collapsed_sections": [],
   "name": "Lee_Ichen_Lab2.ipynb",
   "provenance": [],
   "version": "0.3.2"
  },
  "kernelspec": {
   "display_name": "Python 3",
   "language": "python",
   "name": "python3"
  },
  "language_info": {
   "codemirror_mode": {
    "name": "ipython",
    "version": 3
   },
   "file_extension": ".py",
   "mimetype": "text/x-python",
   "name": "python",
   "nbconvert_exporter": "python",
   "pygments_lexer": "ipython3",
   "version": "3.6.2"
  }
 },
 "nbformat": 4,
 "nbformat_minor": 1
}
