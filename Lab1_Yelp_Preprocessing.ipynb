{
 "cells": [
  {
   "cell_type": "markdown",
   "metadata": {
    "colab_type": "text",
    "collapsed": true,
    "id": "72hc3_ykfbTu"
   },
   "source": [
    "# DMA Assignment 1 - Data Preprocessing\n",
    "\n",
    "Data transformations are useful for preparing a dataset for answering a particular question. Part of this process involves generating features from the dataset you find relevant to the question at hand. For this lab, we will be using a Yelp reviews dataset. Each row in the dataset depicts one review along with the features of the review (the reviewer, the review text, etc.). The goal of this lab is to convert this reviews dataset into a reviewers dataset by creating different features of each reviewer.\n",
    "\n",
    "The submission for this assignment should be done *individually*, although you are allowed to work in groups of 2.\n",
    "\n"
   ]
  },
  {
   "cell_type": "markdown",
   "metadata": {
    "colab_type": "text",
    "id": "RqiCoZUUn9Y8"
   },
   "source": [
    "# Environment Setup\n",
    "Run this cell to setup your environment."
   ]
  },
  {
   "cell_type": "code",
   "execution_count": 163,
   "metadata": {
    "colab": {},
    "colab_type": "code",
    "id": "mxzKVAdioO_2"
   },
   "outputs": [
    {
     "name": "stdout",
     "output_type": "stream",
     "text": [
      "Libraries Imported\n",
      "Dataset Downloaded: yelp_reviews.csv\n",
      "     type             business_id                 user_id  stars  \\\n",
      "0  review  mxrXVZWc6PWk81gvOVNOUw  mv7shusL4Xb6TylVYBv4CA      4   \n",
      "1  review  mxrXVZWc6PWk81gvOVNOUw  0aN5QPhs-VwK2vusKG0waQ      5   \n",
      "2  review  kK4AzZ0YWI-U2G-paAL7Fg  0aN5QPhs-VwK2vusKG0waQ      5   \n",
      "3  review  mxrXVZWc6PWk81gvOVNOUw  1JUwyYab-uJzEx_FRd81Zg      5   \n",
      "4  review  mxrXVZWc6PWk81gvOVNOUw  2Zd3Xy8hUVmZkNg7RyNjhg      4   \n",
      "\n",
      "                                                text        date  cool_votes  \\\n",
      "0  Definitely try the duck dish.   I rank it amon...  2011-06-13           0   \n",
      "1  Big Ass Burger was awesome! Great $5 mojitos. ...  2011-06-25           1   \n",
      "2             Unbelievable sandwiches! Good service.  2011-06-25           0   \n",
      "3  Awesome, awesome, awesome! My mom and sister a...  2011-07-18           1   \n",
      "4  I had the ribs they were great.  The beer sele...  2011-07-19           1   \n",
      "\n",
      "   useful_votes  funny_votes  \n",
      "0             0            0  \n",
      "1             0            0  \n",
      "2             0            0  \n",
      "3             1            0  \n",
      "4             0            1  \n",
      "Setup Complete\n"
     ]
    }
   ],
   "source": [
    "# Importing libraries\n",
    "import pandas as pd\n",
    "import math\n",
    "import numpy as np\n",
    "print('Libraries Imported')\n",
    "\n",
    "#DOWNLOADING DATASET\n",
    "#!wget http://people.ischool.berkeley.edu/~zp/course_datasets/yelp_reviews.csv\n",
    "#!unzip yelp_reviews.zip\n",
    "print('Dataset Downloaded: yelp_reviews.csv')\n",
    "df=pd.read_csv('yelp_reviews.csv')\n",
    "print(df.head())\n",
    "\n",
    "print('Setup Complete')"
   ]
  },
  {
   "cell_type": "markdown",
   "metadata": {
    "colab_type": "text",
    "id": "zWnyq8b6nI3g"
   },
   "source": [
    "**Q1: What was the highest number of reviews for any one business_id?**\n",
    "- For this task, we will need to group the reviews dataset by business_id. This will aggregate data for each business, which is what we need. This can be done using [groupby](https://pandas.pydata.org/pandas-docs/stable/generated/pandas.DataFrame.groupby.html).\n",
    "    - ```yelp_businesses = yelp_dataset.groupby('business_id').size() ```\n",
    "    - The .size() counts the number of instances for each business_id, which gives us the number of reviews as each instance in this dataset is a review.\n",
    "    - The following command will sort this list, after which you can take note of the highest value: ```sorted_yelp_businesses = yelp_businesses.sort(ascending=False,inplace=False)```\n",
    "    - This approach allows you to see the data structure being used in the sort. A quicker approach to getting the max would be to use the max function: ```max(yelp_businesses)```\n",
    "<br>\n",
    "<br>"
   ]
  },
  {
   "cell_type": "code",
   "execution_count": 26,
   "metadata": {
    "colab": {},
    "colab_type": "code",
    "id": "XzNYtx_XfbTw"
   },
   "outputs": [
    {
     "name": "stdout",
     "output_type": "stream",
     "text": [
      "                  business_id  count\n",
      "3798   4bEjOyTaDG24SY5TxsaUNQ   4128\n",
      "24132  YNQgak-ZLtYJQxlDwN-qIg   2234\n",
      "9249   CZjcFdvJhksq9dy58NVEzw   2057\n",
      "38803  tFU2Js_nbIZOrnKfYJYBBg   2056\n",
      "4962   6LM_Klmp3hOP0JmsMCKRqQ   1975\n"
     ]
    },
    {
     "data": {
      "text/plain": [
       "\"\\ndf_num_review = df.groupby('business_id').size()\\ndf_max = max(df_num_review)\\nprint(df_max)\\n\""
      ]
     },
     "execution_count": 26,
     "metadata": {},
     "output_type": "execute_result"
    }
   ],
   "source": [
    "# YOUR CODE HERE\n",
    "df_num_review = pd.DataFrame( {'count': df.groupby('business_id').size() }).reset_index()\n",
    "df_num_review = df_num_review.sort_values(by='count', ascending=False)\n",
    "print(df_num_review.head())\n",
    "\n",
    "'''\n",
    "df_num_review = df.groupby('business_id').size()\n",
    "df_max = max(df_num_review)\n",
    "print(df_max)\n",
    "'''"
   ]
  },
  {
   "cell_type": "markdown",
   "metadata": {
    "colab_type": "text",
    "id": "UTXmcsbFGOy3"
   },
   "source": [
    "###Answer: 4128"
   ]
  },
  {
   "cell_type": "markdown",
   "metadata": {
    "colab_type": "text",
    "id": "JizBl1PdpRfM"
   },
   "source": [
    "**Q2: What was the average number of reviews for a business_id?**"
   ]
  },
  {
   "cell_type": "code",
   "execution_count": 36,
   "metadata": {
    "colab": {},
    "colab_type": "code",
    "id": "KlknHrO0nQrC"
   },
   "outputs": [
    {
     "name": "stdout",
     "output_type": "stream",
     "text": [
      "12.63413902163123\n"
     ]
    }
   ],
   "source": [
    "# YOUR CODE HERE\n",
    "review_sum = df_num_review['count'].sum()\n",
    "review_id  = len(df_num_review)\n",
    "review_avg = review_sum/review_id\n",
    "print(review_avg)"
   ]
  },
  {
   "cell_type": "markdown",
   "metadata": {
    "colab_type": "text",
    "id": "TDuk6chcGTir"
   },
   "source": [
    "###Answer: 12.6341"
   ]
  },
  {
   "cell_type": "markdown",
   "metadata": {
    "colab_type": "text",
    "id": "t2G7HoujpakU"
   },
   "source": [
    "**Q3: What is the average number of reviews per reviewer?**"
   ]
  },
  {
   "cell_type": "code",
   "execution_count": 61,
   "metadata": {
    "colab": {},
    "colab_type": "code",
    "id": "WKRYyyHqnQuO"
   },
   "outputs": [
    {
     "name": "stdout",
     "output_type": "stream",
     "text": [
      "3.188511934933203\n"
     ]
    }
   ],
   "source": [
    "# YOUR CODE HERE\n",
    "review_id_2  = len(df.groupby('user_id').size())\n",
    "review_sum_2 = len(df)\n",
    "review_avg_2 = review_sum_2 / review_id_2\n",
    "print(review_avg_2)"
   ]
  },
  {
   "cell_type": "markdown",
   "metadata": {
    "colab_type": "text",
    "id": "z7iOiTo7GVud"
   },
   "source": [
    "###Answer: 3.1885"
   ]
  },
  {
   "cell_type": "markdown",
   "metadata": {
    "colab_type": "text",
    "id": "RuldYIp7XWBo"
   },
   "source": [
    "**Q4: What is the average number of cool votes per reviewer?**"
   ]
  },
  {
   "cell_type": "code",
   "execution_count": 49,
   "metadata": {
    "colab": {},
    "colab_type": "code",
    "id": "39le3zpMXjxG",
    "scrolled": true
   },
   "outputs": [
    {
     "name": "stdout",
     "output_type": "stream",
     "text": [
      "1.2417282785380945\n"
     ]
    }
   ],
   "source": [
    "# YOUR CODE HERE\n",
    "cool_sum_2 = df['cool_votes'].sum()\n",
    "cool_avg_2 = cool_sum_2 / review_id_2\n",
    "print(cool_avg_2)"
   ]
  },
  {
   "cell_type": "markdown",
   "metadata": {
    "colab_type": "text",
    "id": "hR-HDXbRGXu1"
   },
   "source": [
    "###Answer: 1.2417"
   ]
  },
  {
   "cell_type": "markdown",
   "metadata": {
    "colab_type": "text",
    "id": "zDGoIWHPXWZk"
   },
   "source": [
    "**Q5: What is the average number of funny votes per reviewer?**"
   ]
  },
  {
   "cell_type": "code",
   "execution_count": 50,
   "metadata": {
    "colab": {},
    "colab_type": "code",
    "id": "mIMsnT-uXlLr"
   },
   "outputs": [
    {
     "name": "stdout",
     "output_type": "stream",
     "text": [
      "1.10126486404605\n"
     ]
    }
   ],
   "source": [
    "# YOUR CODE HERE\n",
    "fun_sum_2 = df['funny_votes'].sum()\n",
    "fun_avg_2 = fun_sum_2 / review_id_2\n",
    "print(fun_avg_2)"
   ]
  },
  {
   "cell_type": "markdown",
   "metadata": {
    "colab_type": "text",
    "id": "-d-ZQCHDGYyX"
   },
   "source": [
    "###Answer: 1.1013"
   ]
  },
  {
   "cell_type": "markdown",
   "metadata": {
    "colab_type": "text",
    "id": "JeVxqN8wplTO"
   },
   "source": [
    "**Q6: What is the average number of useful votes per reviewer?**"
   ]
  },
  {
   "cell_type": "code",
   "execution_count": 51,
   "metadata": {
    "colab": {},
    "colab_type": "code",
    "id": "BAyROnswnQxs"
   },
   "outputs": [
    {
     "name": "stdout",
     "output_type": "stream",
     "text": [
      "2.484476138872867\n"
     ]
    }
   ],
   "source": [
    "# YOUR CODE HERE\n",
    "useful_sum_2 = df['useful_votes'].sum()\n",
    "useful_avg_2 = useful_sum_2 / review_id_2\n",
    "print(useful_avg_2)"
   ]
  },
  {
   "cell_type": "markdown",
   "metadata": {
    "colab_type": "text",
    "id": "C2QZcSYvGbdI"
   },
   "source": [
    "###Answer: 2.4845"
   ]
  },
  {
   "cell_type": "markdown",
   "metadata": {
    "colab_type": "text",
    "id": "tHWfa5zjpj5s"
   },
   "source": [
    "**Q7: What is the average of the log of the number of reviews per reviewer?**"
   ]
  },
  {
   "cell_type": "code",
   "execution_count": 81,
   "metadata": {
    "colab": {},
    "colab_type": "code",
    "id": "4YN-p3X1nQ1L"
   },
   "outputs": [
    {
     "name": "stdout",
     "output_type": "stream",
     "text": [
      "0.7681766036710075\n"
     ]
    }
   ],
   "source": [
    "# YOUR CODE HERE\n",
    "df['cnt'] = 1\n",
    "df_1 = df.groupby('user_id').agg({'cnt':'sum'})\n",
    "df_1['log_cnt'] = df_1['cnt'].apply(lambda x: math.log(x))\n",
    "review_sum_3 = df_1['log_cnt'].sum()\n",
    "review_avg_3 = review_sum_3 / review_id_2\n",
    "print(review_avg_3)\n"
   ]
  },
  {
   "cell_type": "markdown",
   "metadata": {
    "colab_type": "text",
    "id": "QN60GJQdGckK"
   },
   "source": [
    "###Answer: 0.7681766036710075"
   ]
  },
  {
   "cell_type": "markdown",
   "metadata": {
    "colab_type": "text",
    "id": "nojIBjkgrB4D"
   },
   "source": [
    "**Q8: What is the average of the log of the number of cool votes per reviewer?**"
   ]
  },
  {
   "cell_type": "code",
   "execution_count": 122,
   "metadata": {
    "colab": {},
    "colab_type": "code",
    "id": "RLOtQ-B2mXNj"
   },
   "outputs": [
    {
     "name": "stdout",
     "output_type": "stream",
     "text": [
      "0.20849425451212117\n"
     ]
    },
    {
     "name": "stderr",
     "output_type": "stream",
     "text": [
      "C:\\Users\\user\\Anaconda3\\lib\\site-packages\\ipykernel_launcher.py:4: SettingWithCopyWarning: \n",
      "A value is trying to be set on a copy of a slice from a DataFrame.\n",
      "Try using .loc[row_indexer,col_indexer] = value instead\n",
      "\n",
      "See the caveats in the documentation: http://pandas.pydata.org/pandas-docs/stable/indexing.html#indexing-view-versus-copy\n",
      "  after removing the cwd from sys.path.\n"
     ]
    }
   ],
   "source": [
    "# YOUR CODE HERE\n",
    "df_2 = df.groupby('user_id').agg({'cool_votes':'sum'})\n",
    "df_2_a = df_2.loc[ df_2['cool_votes']!=0 ]\n",
    "df_2_a['log_cool'] = df_2_a['cool_votes'].apply(lambda x: math.log(x))\n",
    "                \n",
    "cool_sum_3 = df_2_a['log_cool'].sum()\n",
    "cool_avg_3 = cool_sum_3 / review_id_2\n",
    "print(cool_avg_3)"
   ]
  },
  {
   "cell_type": "markdown",
   "metadata": {
    "colab_type": "text",
    "id": "b98WjSIOGdu8"
   },
   "source": [
    "###Answer: 0.20849425451212117"
   ]
  },
  {
   "cell_type": "markdown",
   "metadata": {
    "colab_type": "text",
    "id": "D86RBgXcrERi"
   },
   "source": [
    "**Q9: What is the average of the log of the number of funny votes per reviewer?**"
   ]
  },
  {
   "cell_type": "code",
   "execution_count": 125,
   "metadata": {
    "colab": {},
    "colab_type": "code",
    "id": "UGjnQC4SmXTe"
   },
   "outputs": [
    {
     "name": "stdout",
     "output_type": "stream",
     "text": [
      "0.1905064114576415\n"
     ]
    },
    {
     "name": "stderr",
     "output_type": "stream",
     "text": [
      "C:\\Users\\user\\Anaconda3\\lib\\site-packages\\ipykernel_launcher.py:4: SettingWithCopyWarning: \n",
      "A value is trying to be set on a copy of a slice from a DataFrame.\n",
      "Try using .loc[row_indexer,col_indexer] = value instead\n",
      "\n",
      "See the caveats in the documentation: http://pandas.pydata.org/pandas-docs/stable/indexing.html#indexing-view-versus-copy\n",
      "  after removing the cwd from sys.path.\n"
     ]
    }
   ],
   "source": [
    "# YOUR CODE HERE\n",
    "df_3 = df.groupby('user_id').agg({'funny_votes':'sum'})\n",
    "df_3_a = df_3.loc[ df_3['funny_votes']!=0 ]\n",
    "df_3_a['log_fun'] = df_3_a['funny_votes'].apply(lambda x: math.log(x))\n",
    "\n",
    "fun_sum_3 = df_3_a['log_fun'].sum()\n",
    "fun_avg_3 = fun_sum_3 / review_id_2\n",
    "print(fun_avg_3)"
   ]
  },
  {
   "cell_type": "markdown",
   "metadata": {
    "colab_type": "text",
    "id": "8FpuuY10GfAd"
   },
   "source": [
    "###Answer: 0.1905064114576415"
   ]
  },
  {
   "cell_type": "markdown",
   "metadata": {
    "colab_type": "text",
    "id": "1UMVPcW1rFEi"
   },
   "source": [
    "**Q10: What is the average of the log of the number of useful votes per reviewer?**"
   ]
  },
  {
   "cell_type": "code",
   "execution_count": 126,
   "metadata": {
    "colab": {},
    "colab_type": "code",
    "id": "MX0tbdENmXWw"
   },
   "outputs": [
    {
     "name": "stdout",
     "output_type": "stream",
     "text": [
      "0.48005864610840415\n"
     ]
    },
    {
     "name": "stderr",
     "output_type": "stream",
     "text": [
      "C:\\Users\\user\\Anaconda3\\lib\\site-packages\\ipykernel_launcher.py:4: SettingWithCopyWarning: \n",
      "A value is trying to be set on a copy of a slice from a DataFrame.\n",
      "Try using .loc[row_indexer,col_indexer] = value instead\n",
      "\n",
      "See the caveats in the documentation: http://pandas.pydata.org/pandas-docs/stable/indexing.html#indexing-view-versus-copy\n",
      "  after removing the cwd from sys.path.\n"
     ]
    }
   ],
   "source": [
    "# YOUR CODE HERE\n",
    "df_4 = df.groupby('user_id').agg({'useful_votes':'sum'})\n",
    "df_4_a = df_4.loc[ df_4['useful_votes']!=0 ]\n",
    "df_4_a['log_fun'] = df_4_a['useful_votes'].apply(lambda x: math.log(x))\n",
    "\n",
    "useful_sum_3 = df_4_a['log_fun'].sum()\n",
    "useful_avg_3 = useful_sum_3 / review_id_2\n",
    "print(useful_avg_3)"
   ]
  },
  {
   "cell_type": "markdown",
   "metadata": {
    "colab_type": "text",
    "id": "6P4VvvjUGgHO"
   },
   "source": [
    "###Answer: 0.48005864610840415"
   ]
  },
  {
   "cell_type": "markdown",
   "metadata": {
    "colab_type": "text",
    "id": "fBVz_pN9rkiz"
   },
   "source": [
    "**Q11: Find the average of the percentage of total cool votes out of total votes for each reviewer.**"
   ]
  },
  {
   "cell_type": "code",
   "execution_count": 170,
   "metadata": {
    "colab": {},
    "colab_type": "code",
    "id": "wrEjp_yQmXaC"
   },
   "outputs": [
    {
     "name": "stdout",
     "output_type": "stream",
     "text": [
      "0.1927040524186172\n"
     ]
    },
    {
     "data": {
      "text/plain": [
       "\"\\ndf_cool.columns = df_cool.columns.droplevel(0)\\ndf_cool = df_cool.rename(columns = {'sum':'cool_sum', 'count':'cool_count'})\\ndf_cool['cool_percent'] = 100 * ( df_cool['cool_sum'] / df_cool['cool_count'] )\\n\""
      ]
     },
     "execution_count": 170,
     "metadata": {},
     "output_type": "execute_result"
    }
   ],
   "source": [
    "# YOUR CODE HERE\n",
    "df_vote = pd.DataFrame( df.groupby('user_id').agg({'cool_votes':'sum', 'funny_votes':'sum', 'useful_votes':'sum'}) )\n",
    "df_vote['ttl_votes'] = ( df_vote['cool_votes'] + df_vote['funny_votes'] + df_vote['useful_votes'] )\n",
    "df_vote['cool_percent'] = df_vote['cool_votes'] / df_vote['ttl_votes']  \n",
    "print(df_vote['cool_percent'].mean()) \n",
    "\n",
    "'''\n",
    "df_cool.columns = df_cool.columns.droplevel(0)\n",
    "df_cool = df_cool.rename(columns = {'sum':'cool_sum', 'count':'cool_count'})\n",
    "df_cool['cool_percent'] = 100 * ( df_cool['cool_sum'] / df_cool['cool_count'] )\n",
    "'''"
   ]
  },
  {
   "cell_type": "markdown",
   "metadata": {
    "colab_type": "text",
    "id": "Q36BJOElGhQp"
   },
   "source": [
    "###Answer: 0.1927040524186172"
   ]
  },
  {
   "cell_type": "markdown",
   "metadata": {
    "colab_type": "text",
    "id": "bEHQbW8YrlI-"
   },
   "source": [
    "**Q12: Find the average of the percentage of total funny votes out of total votes for each reviewer.**"
   ]
  },
  {
   "cell_type": "code",
   "execution_count": 171,
   "metadata": {
    "colab": {},
    "colab_type": "code",
    "id": "XZCfq1kVmXdE"
   },
   "outputs": [
    {
     "name": "stdout",
     "output_type": "stream",
     "text": [
      "0.18256423845803052\n"
     ]
    }
   ],
   "source": [
    "# YOUR CODE HERE\n",
    "df_vote['fun_percent'] = df_vote['funny_votes'] / df_vote['ttl_votes']  \n",
    "print(df_vote['fun_percent'].mean()) "
   ]
  },
  {
   "cell_type": "markdown",
   "metadata": {
    "colab_type": "text",
    "id": "dXcjCm9oGiMu"
   },
   "source": [
    "###Answer: 0.18256423845803052"
   ]
  },
  {
   "cell_type": "markdown",
   "metadata": {
    "colab_type": "text",
    "id": "LEDrDGt1rlvO"
   },
   "source": [
    "**Q13: Find the average of the percentage of total useful votes out of total votes for each reviewer.**"
   ]
  },
  {
   "cell_type": "code",
   "execution_count": 172,
   "metadata": {
    "colab": {},
    "colab_type": "code",
    "id": "7Kh3IYkOmXf9"
   },
   "outputs": [
    {
     "name": "stdout",
     "output_type": "stream",
     "text": [
      "0.6247317091233844\n"
     ]
    }
   ],
   "source": [
    "# YOUR CODE HERE\n",
    "df_vote['use_percent'] = df_vote['useful_votes'] / df_vote['ttl_votes']  \n",
    "print(df_vote['use_percent'].mean()) "
   ]
  },
  {
   "cell_type": "markdown",
   "metadata": {
    "colab_type": "text",
    "id": "Y18ohMLRGjKq"
   },
   "source": [
    "###Answer: 0.6247317091233844"
   ]
  },
  {
   "cell_type": "markdown",
   "metadata": {
    "colab_type": "text",
    "id": "ZkRDo2zhrmhp"
   },
   "source": [
    "**Q14: Average review text length (in non-space characters)**"
   ]
  },
  {
   "cell_type": "code",
   "execution_count": 142,
   "metadata": {
    "colab": {},
    "colab_type": "code",
    "id": "KdV6YJ1tmXjY"
   },
   "outputs": [
    {
     "name": "stdout",
     "output_type": "stream",
     "text": [
      "text_len    499.025326\n",
      "dtype: float64\n"
     ]
    }
   ],
   "source": [
    "# YOUR CODE HERE\n",
    "df['text_s'] = list( df['text'][i].replace(\" \", \"\") for i in range(len(df['text'])))\n",
    "df['text_len'] = list( len(df['text_s'][i]) for i in range(len(df['text_s'])) ) \n",
    "sum_text = df.agg({'text_len':'sum'})\n",
    "num_instance = len(df['text_len'])\n",
    "print(sum_text / num_instance)"
   ]
  },
  {
   "cell_type": "markdown",
   "metadata": {
    "colab_type": "text",
    "id": "SNDRRvUMGkNh"
   },
   "source": [
    "###Answer: 499.025326"
   ]
  },
  {
   "cell_type": "markdown",
   "metadata": {
    "colab_type": "text",
    "id": "f0yRvysDr6Dm"
   },
   "source": [
    "**Q15: Year in which the reviewer wrote the most reviews. Once you have this for each reviewer, subtract the minimum possible year (2005) from each so that your final feature values are 0, 1, 2 etc.**"
   ]
  },
  {
   "cell_type": "code",
   "execution_count": 44,
   "metadata": {
    "colab": {},
    "colab_type": "code",
    "id": "tr0hsljGnQ4o"
   },
   "outputs": [
    {
     "name": "stdout",
     "output_type": "stream",
     "text": [
      "                  user_id  stars  cool_votes  useful_votes  funny_votes  \\\n",
      "0  --1Y03CEKR3WDbBjYnsW7A      5           0             0            0   \n",
      "1  --2QZsyXGz1OhiD4-0FQLQ     14           0             1            0   \n",
      "2  --82_AVgRBsLw6Dhy8sEnA      4           0             0            0   \n",
      "3  --8A9o_NeGyt_3kzlXtSdg     11           0             1            0   \n",
      "4  --8WbseBk1NjfPiZWjQ-XQ     11           0             0            0   \n",
      "\n",
      "   year_-1  year_0  year_1  year_2  year_3  year_4  year_5  year_6  year_7  \\\n",
      "0      0.0     0.0     0.0     0.0     0.0     0.0     0.0     1.0     0.0   \n",
      "1      0.0     0.0     0.0     0.0     0.0     0.0     0.0     0.0     0.0   \n",
      "2      0.0     0.0     0.0     0.0     1.0     0.0     0.0     0.0     0.0   \n",
      "3      0.0     0.0     0.0     0.0     0.0     0.0     0.0     0.0     0.0   \n",
      "4      0.0     0.0     0.0     0.0     0.0     0.0     0.0     0.0     0.0   \n",
      "\n",
      "   year_8  year_9  year_10  year_11 max_review_year  \n",
      "0     0.0     0.0      0.0      0.0          year_6  \n",
      "1     0.0     3.0      0.0      0.0          year_9  \n",
      "2     0.0     0.0      0.0      0.0          year_3  \n",
      "3     0.0     0.0      2.0      1.0         year_10  \n",
      "4     0.0     0.0      0.0      4.0         year_11  \n"
     ]
    }
   ],
   "source": [
    "# YOUR CODE HERE\n",
    "df['year'] = pd.DatetimeIndex(df['date']).year - 2005\n",
    "df_year = pd.get_dummies(df, columns=['year']).groupby(['user_id'], as_index=False).sum()\n",
    "df_year['max_review_year'] = df_year.loc[:,'year_-1':'year_11'].idxmax(axis=1)\n",
    "print( df_year.head() )"
   ]
  },
  {
   "cell_type": "markdown",
   "metadata": {
    "colab_type": "text",
    "id": "N9kpeJbUGlL2"
   },
   "source": [
    "###Answer:"
   ]
  },
  {
   "cell_type": "markdown",
   "metadata": {
    "colab_type": "text",
    "id": "YDRKDfvoArUk"
   },
   "source": [
    "**Q16: Come up with a new feature. This may be derived from existing features. Give your feature the name ** *my_new_feature.* **Dsiplay head() of this new feature.**"
   ]
  },
  {
   "cell_type": "code",
   "execution_count": 59,
   "metadata": {
    "colab": {},
    "colab_type": "code",
    "id": "1icFU-hmBJwY"
   },
   "outputs": [
    {
     "name": "stdout",
     "output_type": "stream",
     "text": [
      "                        my_new_feature\n",
      "business_id                           \n",
      "zzxb0YNkRvH1UgifuR3BvQ             5.0\n",
      "Bfp0U0lrD79X9clT8gS7YQ             5.0\n",
      "XaxsJK1AEalzgAI0jAVY5w             5.0\n",
      "XaSV2CimMDKOuNrfP8F6CQ             5.0\n",
      "Bg3qwBTCsLzqRXT2M-7R5g             5.0\n"
     ]
    }
   ],
   "source": [
    "# YOUR CODE HERE\n",
    "df_star = pd.DataFrame(df.groupby('business_id').agg({'stars':'mean'})) \n",
    "df_star = df_star.rename(columns = {'stars':'my_new_feature'})\n",
    "df_star = df_star.sort_values('my_new_feature', ascending=False)\n",
    "print( df_star.head() )"
   ]
  },
  {
   "cell_type": "markdown",
   "metadata": {
    "colab_type": "text",
    "id": "zZit6VOqGl8Y"
   },
   "source": [
    "###Answer:"
   ]
  },
  {
   "cell_type": "code",
   "execution_count": null,
   "metadata": {
    "collapsed": true
   },
   "outputs": [],
   "source": []
  }
 ],
 "metadata": {
  "colab": {
   "collapsed_sections": [],
   "name": "DMA_Spring19_Lab1.ipynb",
   "provenance": [],
   "toc_visible": true,
   "version": "0.3.2"
  },
  "kernelspec": {
   "display_name": "Python 3",
   "language": "python",
   "name": "python3"
  },
  "language_info": {
   "codemirror_mode": {
    "name": "ipython",
    "version": 3
   },
   "file_extension": ".py",
   "mimetype": "text/x-python",
   "name": "python",
   "nbconvert_exporter": "python",
   "pygments_lexer": "ipython3",
   "version": "3.6.2"
  }
 },
 "nbformat": 4,
 "nbformat_minor": 1
}
